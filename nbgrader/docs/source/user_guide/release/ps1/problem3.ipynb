{
 "cells": [
  {
   "cell_type": "markdown",
   "metadata": {
    "deletable": false,
    "editable": false,
    "nbgrader": {
     "cell_type": "markdown",
     "checksum": "535c21960d4663d5edac398cb445d087",
     "grade": false,
     "grade_id": "jupyter",
     "locked": true,
     "schema_version": 3,
     "solution": false
    }
   },
   "source": [
    "For this problem set, we'll be using the Jupyter notebook:\n",
    "\n",
    "![](jupyter.png)"
   ]
  },
  {
   "cell_type": "markdown",
   "metadata": {},
   "source": [
    "---\n",
    "## Part A (2 points)\n",
    "\n",
    "Write a function that returns a list of numbers, such that $x_i=i^2$, for $1\\leq i \\leq n$. Make sure it handles the case where $n<1$ by raising a `ValueError`."
   ]
  },
  {
   "cell_type": "code",
   "execution_count": null,
   "metadata": {
    "deletable": false,
    "execution": {
     "iopub.execute_input": "2021-01-28T17:52:49.508124Z",
     "iopub.status.busy": "2021-01-28T17:52:49.507773Z",
     "iopub.status.idle": "2021-01-28T17:52:49.509745Z",
     "shell.execute_reply": "2021-01-28T17:52:49.509387Z"
    },
    "nbgrader": {
     "cell_type": "code",
     "checksum": "8f1eab8d02a9520920aa06f8a86a2492",
     "grade": false,
     "grade_id": "squares",
     "locked": false,
     "schema_version": 3,
     "solution": true
    }
   },
   "outputs": [],
   "source": [
    "def squares(n):\n",
    "    \"\"\"Compute the squares of numbers from 1 to n, such that the \n",
    "    ith element of the returned list equals i^2.\n",
    "    \n",
    "    \"\"\"\n",
    "    # YOUR CODE HERE\n",
    "    raise NotImplementedError()"
   ]
  },
  {
   "cell_type": "markdown",
   "metadata": {},
   "source": [
    "Your function should print `[1, 4, 9, 16, 25, 36, 49, 64, 81, 100]` for $n=10$. Check that it does:"
   ]
  },
  {
   "cell_type": "code",
   "execution_count": null,
   "metadata": {
    "execution": {
     "iopub.execute_input": "2021-01-28T17:52:49.515494Z",
     "iopub.status.busy": "2021-01-28T17:52:49.515147Z",
     "iopub.status.idle": "2021-01-28T17:52:49.517004Z",
     "shell.execute_reply": "2021-01-28T17:52:49.517243Z"
    }
   },
   "outputs": [],
   "source": [
    "squares(10)"
   ]
  },
  {
   "cell_type": "code",
   "execution_count": null,
   "metadata": {
    "deletable": false,
    "editable": false,
    "execution": {
     "iopub.execute_input": "2021-01-28T17:52:49.519491Z",
     "iopub.status.busy": "2021-01-28T17:52:49.519138Z",
     "iopub.status.idle": "2021-01-28T17:52:49.521385Z",
     "shell.execute_reply": "2021-01-28T17:52:49.521059Z"
    },
    "nbgrader": {
     "cell_type": "code",
     "checksum": "d019954920959aa7d9ffc2234f7be980",
     "grade": true,
     "grade_id": "correct_squares",
     "locked": false,
     "points": 1,
     "schema_version": 3,
     "solution": false
    }
   },
   "outputs": [],
   "source": [
    "\"\"\"Check that squares returns the correct output for several inputs\"\"\"\n",
    "from hashlib import sha1\n",
    "assert str(squares(1)) == '[1]', 'Value not correct.'\n",
    "\n",
    "assert str(squares(2)) == '[1, 4]', 'Value not correct.'\n",
    "\n",
    "assert str(squares(15)) == '[1, 4, 9, 16, 25, 36, 49, 64, 81, 100, 121, 144, 169, 196, 225]', 'Value not correct.'\n",
    "\n",
    "assert str(squares(10)) == '[1, 4, 9, 16, 25, 36, 49, 64, 81, 100]', 'Value not correct.'\n",
    "\n",
    "assert str(squares(11)) == '[1, 4, 9, 16, 25, 36, 49, 64, 81, 100, 121]', 'Value not correct.'\n",
    "\n",
    "assert str(3) == '3', 'Value not correct.'\n",
    "\n",
    "assert str(squares(3)) == '[1, 4, 9]', 'Value not correct.'\n",
    "\n",
    "assert sha1(str(squares(3)).encode(\"utf-8\")+b\"45d39d23a480d6bd\").hexdigest() == 'ae2cde4e0d2d56455023505d48048cc1e0415d84', 'Value not correct.'\n",
    "\n",
    "print('Success!')"
   ]
  },
  {
   "cell_type": "code",
   "execution_count": null,
   "metadata": {
    "deletable": false,
    "editable": false,
    "execution": {
     "iopub.execute_input": "2021-01-28T17:52:49.628616Z",
     "iopub.status.busy": "2021-01-28T17:52:49.628258Z",
     "iopub.status.idle": "2021-01-28T17:52:49.630164Z",
     "shell.execute_reply": "2021-01-28T17:52:49.629819Z"
    },
    "nbgrader": {
     "cell_type": "code",
     "checksum": "e37e3a755314a5b74fafd0dec8a0d2ed",
     "grade": true,
     "grade_id": "squares_invalid_input",
     "locked": false,
     "points": 1,
     "schema_version": 3,
     "solution": false
    }
   },
   "outputs": [],
   "source": [
    "\"\"\"Check that squares raises an error for invalid inputs\"\"\"\n",
    "def test_func_throws(func, ErrorType):\n",
    "    try:\n",
    "        func()\n",
    "    except ErrorType:\n",
    "        return True\n",
    "    else:\n",
    "        print('Did not raise right type of error!')\n",
    "        return False\n",
    "    \n",
    "from hashlib import sha1\n",
    "assert str(test_func_throws(lambda : squares(0), ValueError)) == 'True', 'Value not correct.'\n",
    "\n",
    "assert str(test_func_throws(lambda : squares(-4), ValueError)) == 'True', 'Value not correct.'\n",
    "\n",
    "\n",
    "print('Success!')"
   ]
  },
  {
   "cell_type": "markdown",
   "metadata": {},
   "source": [
    "---\n",
    "\n",
    "## Part B (1 point)\n",
    "\n",
    "Using your `squares` function, write a function that computes the sum of the squares of the numbers from 1 to $n$. Your function should call the `squares` function -- it should NOT reimplement its functionality."
   ]
  },
  {
   "cell_type": "code",
   "execution_count": null,
   "metadata": {
    "deletable": false,
    "execution": {
     "iopub.execute_input": "2021-01-28T17:52:49.662372Z",
     "iopub.status.busy": "2021-01-28T17:52:49.662036Z",
     "iopub.status.idle": "2021-01-28T17:52:49.663841Z",
     "shell.execute_reply": "2021-01-28T17:52:49.663497Z"
    },
    "nbgrader": {
     "cell_type": "code",
     "checksum": "166e1abc6621f93f8084ec312c49f757",
     "grade": false,
     "grade_id": "sum_of_squares",
     "locked": false,
     "schema_version": 3,
     "solution": true
    }
   },
   "outputs": [],
   "source": [
    "def sum_of_squares(n):\n",
    "    \"\"\"Compute the sum of the squares of numbers from 1 to n.\"\"\"\n",
    "    # YOUR CODE HERE\n",
    "    raise NotImplementedError()"
   ]
  },
  {
   "cell_type": "markdown",
   "metadata": {},
   "source": [
    "The sum of squares from 1 to 10 should be 385. Verify that this is the answer you get:"
   ]
  },
  {
   "cell_type": "code",
   "execution_count": null,
   "metadata": {
    "execution": {
     "iopub.execute_input": "2021-01-28T17:52:49.666210Z",
     "iopub.status.busy": "2021-01-28T17:52:49.665875Z",
     "iopub.status.idle": "2021-01-28T17:52:49.668136Z",
     "shell.execute_reply": "2021-01-28T17:52:49.667794Z"
    }
   },
   "outputs": [],
   "source": [
    "sum_of_squares(10)"
   ]
  },
  {
   "cell_type": "code",
   "execution_count": null,
   "metadata": {
    "deletable": false,
    "editable": false,
    "execution": {
     "iopub.execute_input": "2021-01-28T17:52:49.670492Z",
     "iopub.status.busy": "2021-01-28T17:52:49.670147Z",
     "iopub.status.idle": "2021-01-28T17:52:49.672388Z",
     "shell.execute_reply": "2021-01-28T17:52:49.672040Z"
    },
    "nbgrader": {
     "cell_type": "code",
     "checksum": "c2077effcc8501f085846ebf535b54ac",
     "grade": true,
     "grade_id": "correct_sum_of_squares",
     "locked": false,
     "points": 0.5,
     "schema_version": 3,
     "solution": false
    }
   },
   "outputs": [],
   "source": [
    "\"\"\"Check that sum_of_squares returns the correct answer for various inputs.\"\"\"\n",
    "from hashlib import sha1\n",
    "assert str(sum_of_squares(1)) == '1', 'Value not correct.'\n",
    "\n",
    "assert str(sum_of_squares(2)) == '5', 'Value not correct.'\n",
    "\n",
    "assert str(sum_of_squares(10)) == '385', 'Value not correct.'\n",
    "\n",
    "assert str(sum_of_squares(11)) == '506', 'Value not correct.'\n",
    "\n",
    "\n",
    "print('Success!')"
   ]
  },
  {
   "cell_type": "code",
   "execution_count": null,
   "metadata": {
    "deletable": false,
    "editable": false,
    "execution": {
     "iopub.execute_input": "2021-01-28T17:52:49.727817Z",
     "iopub.status.busy": "2021-01-28T17:52:49.727476Z",
     "iopub.status.idle": "2021-01-28T17:52:49.729420Z",
     "shell.execute_reply": "2021-01-28T17:52:49.729077Z"
    },
    "nbgrader": {
     "cell_type": "code",
     "checksum": "7fa906cf4d87f5c6a0e838caa30364df",
     "grade": true,
     "grade_id": "sum_of_squares_uses_squares",
     "locked": false,
     "points": 0.5,
     "schema_version": 3,
     "solution": false
    }
   },
   "outputs": [],
   "source": [
    "\"\"\"Check that sum_of_squares relies on squares.\"\"\"\n",
    "\n",
    "orig_squares = squares\n",
    "del squares\n",
    "\n",
    "from hashlib import sha1\n",
    "assert str(test_func_throws(lambda : sum_of_squares(1), NameError)) == 'False', 'Value not correct.'\n",
    "\n",
    "\n",
    "squares = orig_squares\n",
    "\n",
    "print('Success!')"
   ]
  },
  {
   "cell_type": "markdown",
   "metadata": {},
   "source": [
    "---\n",
    "## Part C (1 point)\n",
    "\n",
    "Using LaTeX math notation, write out the equation that is implemented by your `sum_of_squares` function."
   ]
  },
  {
   "cell_type": "markdown",
   "metadata": {
    "deletable": false,
    "nbgrader": {
     "cell_type": "markdown",
     "checksum": "f3cc38a3e522c0be10852ebbe2a638b7",
     "grade": true,
     "grade_id": "sum_of_squares_equation",
     "locked": false,
     "points": 1,
     "schema_version": 3,
     "solution": true
    }
   },
   "source": [
    "YOUR ANSWER HERE"
   ]
  },
  {
   "cell_type": "markdown",
   "metadata": {},
   "source": [
    "---\n",
    "## Part D (2 points)\n",
    "\n",
    "Find a usecase for your `sum_of_squares` function and implement that usecase in the cell below."
   ]
  },
  {
   "cell_type": "code",
   "execution_count": null,
   "metadata": {
    "deletable": false,
    "execution": {
     "iopub.execute_input": "2021-01-28T17:52:49.751901Z",
     "iopub.status.busy": "2021-01-28T17:52:49.751566Z",
     "iopub.status.idle": "2021-01-28T17:52:49.753421Z",
     "shell.execute_reply": "2021-01-28T17:52:49.753075Z"
    },
    "nbgrader": {
     "cell_type": "code",
     "checksum": "5a96910dbc324f5565edf92f5c98af1b",
     "grade": true,
     "grade_id": "sum_of_squares_application",
     "locked": false,
     "points": 2,
     "schema_version": 3,
     "solution": true
    }
   },
   "outputs": [],
   "source": [
    "# YOUR CODE HERE\n",
    "raise NotImplementedError()"
   ]
  },
  {
   "cell_type": "markdown",
   "metadata": {
    "deletable": false,
    "editable": false,
    "nbgrader": {
     "cell_type": "markdown",
     "checksum": "987adcce9e8e5119f9c00f2db459fd97",
     "grade": false,
     "grade_id": "cell-938593c4a215c6cc",
     "locked": true,
     "points": 4,
     "schema_version": 3,
     "solution": false,
     "task": true
    }
   },
   "source": [
    "---\n",
    "## Part E (4 points)\n",
    "\n",
    "State the formulae for an arithmetic and geometric sum and verify them numerically for an example of your choice."
   ]
  }
 ],
 "metadata": {
  "kernelspec": {
   "display_name": "Python 3",
   "language": "python",
   "name": "python3"
  },
  "language_info": {
   "codemirror_mode": {
    "name": "ipython",
    "version": 3
   },
   "file_extension": ".py",
   "mimetype": "text/x-python",
   "name": "python",
   "nbconvert_exporter": "python",
   "pygments_lexer": "ipython3",
   "version": "3.8.5"
  }
 },
 "nbformat": 4,
 "nbformat_minor": 1
}
