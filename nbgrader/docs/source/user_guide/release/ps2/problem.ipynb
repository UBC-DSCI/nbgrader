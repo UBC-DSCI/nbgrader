{
 "cells": [
  {
   "cell_type": "markdown",
   "metadata": {
    "deletable": false,
    "editable": false,
    "nbgrader": {
     "cell_type": "markdown",
     "checksum": "535c21960d4663d5edac398cb445d087",
     "grade": false,
     "grade_id": "jupyter",
     "locked": true,
     "schema_version": 3,
     "solution": false
    }
   },
   "source": [
    "For this problem set, we'll be using the Jupyter notebook:\n",
    "\n",
    "![](jupyter.png)"
   ]
  },
  {
   "cell_type": "markdown",
   "metadata": {},
   "source": [
    "---\n",
    "## Part A (2 points)\n",
    "\n",
    "Write a function that returns a vector of numbers, such that $x_i=i^2$, for $1\\leq i \\leq n$. Make sure it handles the case where $n<1$ by using `stop(\"n must be greater than or equal to 1\")`."
   ]
  },
  {
   "cell_type": "code",
   "execution_count": null,
   "metadata": {
    "deletable": false,
    "nbgrader": {
     "cell_type": "code",
     "checksum": "3800e9253dc56f5e3783d23440db4534",
     "grade": false,
     "grade_id": "squares",
     "locked": false,
     "schema_version": 3,
     "solution": true
    }
   },
   "outputs": [],
   "source": [
    "squares <- function(n){\n",
    "    # YOUR CODE HERE\n",
    "    fail() # No Answer - remove if you provide an answer\n",
    "}"
   ]
  },
  {
   "cell_type": "markdown",
   "metadata": {},
   "source": [
    "Your function should print `[1, 4, 9, 16, 25, 36, 49, 64, 81, 100]` for $n=10$. Check that it does:"
   ]
  },
  {
   "cell_type": "code",
   "execution_count": null,
   "metadata": {},
   "outputs": [],
   "source": [
    "squares(10)"
   ]
  },
  {
   "cell_type": "code",
   "execution_count": null,
   "metadata": {
    "deletable": false,
    "editable": false,
    "nbgrader": {
     "cell_type": "code",
     "checksum": "8aea79d5cba3726347c47e2bd8b12fb5",
     "grade": true,
     "grade_id": "correct_squares",
     "locked": false,
     "points": 2,
     "schema_version": 3,
     "solution": false
    }
   },
   "outputs": [],
   "source": [
    "library(digest);library(testthat)\n",
    "test_that('Value rounded to two decimals not correct', {expect_equal(toString(round(squares(1))), '1')})\n",
    "\n",
    "test_that('Value rounded to two decimals not correct', {expect_equal(toString(round(squares(2))), '1, 4')})\n",
    "\n",
    "test_that('Value rounded to two decimals not correct', {expect_equal(toString(round(squares(15))), '1, 4, 9, 16, 25, 36, 49, 64, 81, 100, 121, 144, 169, 196, 225')})\n",
    "\n",
    "test_that('Value rounded to two decimals not correct', {expect_equal(toString(round(squares(10))), '1, 4, 9, 16, 25, 36, 49, 64, 81, 100')})\n",
    "\n",
    "test_that('Value rounded to two decimals not correct', {expect_equal(toString(round(squares(11))), '1, 4, 9, 16, 25, 36, 49, 64, 81, 100, 121')})\n",
    "\n",
    "test_that('Value rounded to two decimals not correct', {expect_equal(toString(round(3)), '3')})\n",
    "\n",
    "test_that('Value rounded to two decimals not correct', {expect_equal(toString(round(squares(3))), '1, 4, 9')})\n",
    "\n",
    "test_that('Value rounded to two decimals not correct', {expect_equal(digest(paste(toString(round(squares(3))), \"43b77efd3b01a60b\")), '0ef4e41cb33e2a1a0af7037e56383399')})\n"
   ]
  },
  {
   "cell_type": "markdown",
   "metadata": {},
   "source": [
    "---\n",
    "\n",
    "## Part B (1 point)\n",
    "\n",
    "Using your `squares` function, write a function that computes the sum of the squares of the numbers from 1 to $n$. Your function should call the `squares` function -- it should NOT reimplement its functionality."
   ]
  },
  {
   "cell_type": "code",
   "execution_count": null,
   "metadata": {
    "deletable": false,
    "nbgrader": {
     "cell_type": "code",
     "checksum": "fb7ed861ef32b5e21c60f4190df30f5b",
     "grade": false,
     "grade_id": "sum_of_squares",
     "locked": false,
     "schema_version": 3,
     "solution": true
    }
   },
   "outputs": [],
   "source": [
    "sum_of_squares <- function(n) {\n",
    "    # YOUR CODE HERE\n",
    "    fail() # No Answer - remove if you provide an answer\n",
    "}"
   ]
  },
  {
   "cell_type": "markdown",
   "metadata": {},
   "source": [
    "The sum of squares from 1 to 10 should be 385. Verify that this is the answer you get:"
   ]
  },
  {
   "cell_type": "code",
   "execution_count": null,
   "metadata": {},
   "outputs": [],
   "source": [
    "sum_of_squares(10)"
   ]
  },
  {
   "cell_type": "code",
   "execution_count": null,
   "metadata": {
    "deletable": false,
    "editable": false,
    "nbgrader": {
     "cell_type": "code",
     "checksum": "0f9cb1ced891f0ec072b04293490b25b",
     "grade": true,
     "grade_id": "correct_sum_of_squares",
     "locked": false,
     "points": 1,
     "schema_version": 3,
     "solution": false
    }
   },
   "outputs": [],
   "source": [
    "library(digest);library(testthat)\n",
    "test_that('Value rounded to two decimals not correct', {expect_equal(toString(round(sum_of_squares(1))), '1')})\n",
    "\n",
    "test_that('Value rounded to two decimals not correct', {expect_equal(toString(round(sum_of_squares(2))), '5')})\n",
    "\n",
    "test_that('Value rounded to two decimals not correct', {expect_equal(toString(round(sum_of_squares(10))), '385')})\n",
    "\n",
    "test_that('Value rounded to two decimals not correct', {expect_equal(toString(round(sum_of_squares(11))), '506')})\n",
    "\n"
   ]
  },
  {
   "cell_type": "markdown",
   "metadata": {},
   "source": [
    "---\n",
    "## Part C (1 point)\n",
    "\n",
    "Using LaTeX math notation, write out the equation that is implemented by your `sum_of_squares` function."
   ]
  },
  {
   "cell_type": "markdown",
   "metadata": {
    "deletable": false,
    "nbgrader": {
     "cell_type": "markdown",
     "checksum": "f3cc38a3e522c0be10852ebbe2a638b7",
     "grade": true,
     "grade_id": "sum_of_squares_equation",
     "locked": false,
     "points": 1,
     "schema_version": 3,
     "solution": true
    }
   },
   "source": [
    "YOUR ANSWER HERE"
   ]
  },
  {
   "cell_type": "markdown",
   "metadata": {},
   "source": [
    "---\n",
    "## Part D (2 points)\n",
    "\n",
    "Find a usecase for your `sum_of_squares` function and implement that usecase in the cell below."
   ]
  },
  {
   "cell_type": "code",
   "execution_count": null,
   "metadata": {
    "deletable": false,
    "nbgrader": {
     "cell_type": "code",
     "checksum": "c73e91eca8b59b0b8bc5c6ac0a5ffa7e",
     "grade": true,
     "grade_id": "sum_of_squares_application",
     "locked": false,
     "points": 2,
     "schema_version": 3,
     "solution": true
    }
   },
   "outputs": [],
   "source": [
    "# YOUR CODE HERE\n",
    "fail() # No Answer - remove if you provide an answer"
   ]
  },
  {
   "cell_type": "markdown",
   "metadata": {},
   "source": [
    "---\n",
    "## Part E (4 points)\n",
    "\n",
    "State the formulae for an arithmetic and geometric sum and verify them numerically for an example of your choice."
   ]
  }
 ],
 "metadata": {
  "kernelspec": {
   "display_name": "R",
   "language": "R",
   "name": "ir"
  },
  "language_info": {
   "codemirror_mode": "r",
   "file_extension": ".r",
   "mimetype": "text/x-r-source",
   "name": "R",
   "pygments_lexer": "r",
   "version": "3.4.4"
  }
 },
 "nbformat": 4,
 "nbformat_minor": 1
}
