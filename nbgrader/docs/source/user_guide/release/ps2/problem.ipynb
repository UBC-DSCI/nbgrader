{
 "cells": [
  {
   "cell_type": "markdown",
   "metadata": {
    "deletable": false,
    "editable": false,
    "nbgrader": {
     "cell_type": "markdown",
     "checksum": "535c21960d4663d5edac398cb445d087",
     "grade": false,
     "grade_id": "jupyter",
     "locked": true,
     "schema_version": 3,
     "solution": false
    }
   },
   "source": [
    "For this problem set, we'll be using the Jupyter notebook:\n",
    "\n",
    "![](jupyter.png)"
   ]
  },
  {
   "cell_type": "markdown",
   "metadata": {},
   "source": [
    "---\n",
    "## Part A (2 points)\n",
    "\n",
    "Write a function that returns a vector of numbers, such that $x_i=i^2$, for $1\\leq i \\leq n$. Make sure it handles the case where $n<1$ by using `stop(\"n must be greater than or equal to 1\")`."
   ]
  },
  {
   "cell_type": "code",
   "execution_count": null,
   "metadata": {
    "deletable": false,
    "nbgrader": {
     "cell_type": "code",
     "checksum": "3800e9253dc56f5e3783d23440db4534",
     "grade": false,
     "grade_id": "squares",
     "locked": false,
     "schema_version": 3,
     "solution": true
    }
   },
   "outputs": [],
   "source": [
    "squares <- function(n){\n",
    "    # YOUR CODE HERE\n",
    "    fail() # No Answer - remove if you provide an answer\n",
    "}"
   ]
  },
  {
   "cell_type": "markdown",
   "metadata": {},
   "source": [
    "Your function should print `[1, 4, 9, 16, 25, 36, 49, 64, 81, 100]` for $n=10$. Check that it does:"
   ]
  },
  {
   "cell_type": "code",
   "execution_count": null,
   "metadata": {},
   "outputs": [],
   "source": [
    "squares(10)"
   ]
  },
  {
   "cell_type": "code",
   "execution_count": null,
   "metadata": {
    "deletable": false,
    "editable": false,
    "nbgrader": {
     "cell_type": "code",
     "checksum": "9f51d2686cffe2be6cd89bc9699b0c64",
     "grade": true,
     "grade_id": "correct_squares",
     "locked": false,
     "points": 2,
     "schema_version": 3,
     "solution": false
    }
   },
   "outputs": [],
   "source": [
    "library(digest)\n",
    "\"assert(squares(1) == 1)\n",
    " assert(nchar(squares(1)) == 1)\n",
    " print('Success!')\n",
    "\"\n",
    "\n",
    "\"assert(squares(2) == 1 4)\n",
    " assert(nchar(squares(2)) == 1 1)\n",
    " print('Success!')\n",
    "\"\n",
    "\n",
    "\"assert(squares(15) ==  1   4   9  16  25  36  49  64  81 100 121 144 169 196 225)\n",
    " assert(nchar(squares(15)) ==  1 1 1 2 2 2 2 2 2 3 3 3 3 3 3)\n",
    " print('Success!')\n",
    "\"\n",
    "\n",
    "\"assert(squares(10) ==  1   4   9  16  25  36  49  64  81 100)\n",
    " assert(nchar(squares(10)) ==  1 1 1 2 2 2 2 2 2 3)\n",
    " print('Success!')\n",
    "\"\n",
    "\n",
    "\"assert(squares(11) ==  1   4   9  16  25  36  49  64  81 100 121)\n",
    " assert(nchar(squares(11)) ==  1 1 1 2 2 2 2 2 2 3 3)\n",
    " print('Success!')\n",
    "\"\n",
    "\n",
    "\"assert(3 == 3)\n",
    " assert(nchar(3) == 1)\n",
    " print('Success!')\n",
    "\"\n",
    "\n",
    "\"assert(squares(3) == 1 4 9)\n",
    " assert(nchar(squares(3)) == 1 1 1)\n",
    " print('Success!')\n",
    "\"\n",
    "\n",
    "\"assert(digest(paste(squares(3), '9d8ad6edce7137bf')) == 4a7ee3acf082614a5d5c81dcfbb0009e)\n",
    " assert(digest(paste(nchar(squares(3)), '9d8ad6edce7137bf')) == 4b3da6b75283e468ae94d798a3490aaa)\n",
    " print('Success!')\n",
    "\"\n"
   ]
  },
  {
   "cell_type": "markdown",
   "metadata": {},
   "source": [
    "---\n",
    "\n",
    "## Part B (1 point)\n",
    "\n",
    "Using your `squares` function, write a function that computes the sum of the squares of the numbers from 1 to $n$. Your function should call the `squares` function -- it should NOT reimplement its functionality."
   ]
  },
  {
   "cell_type": "code",
   "execution_count": null,
   "metadata": {
    "deletable": false,
    "nbgrader": {
     "cell_type": "code",
     "checksum": "fb7ed861ef32b5e21c60f4190df30f5b",
     "grade": false,
     "grade_id": "sum_of_squares",
     "locked": false,
     "schema_version": 3,
     "solution": true
    }
   },
   "outputs": [],
   "source": [
    "sum_of_squares <- function(n) {\n",
    "    # YOUR CODE HERE\n",
    "    fail() # No Answer - remove if you provide an answer\n",
    "}"
   ]
  },
  {
   "cell_type": "markdown",
   "metadata": {},
   "source": [
    "The sum of squares from 1 to 10 should be 385. Verify that this is the answer you get:"
   ]
  },
  {
   "cell_type": "code",
   "execution_count": null,
   "metadata": {},
   "outputs": [],
   "source": [
    "sum_of_squares(10)"
   ]
  },
  {
   "cell_type": "code",
   "execution_count": null,
   "metadata": {
    "deletable": false,
    "editable": false,
    "nbgrader": {
     "cell_type": "code",
     "checksum": "452cae74fa47ee1254e4f5b739f1e387",
     "grade": true,
     "grade_id": "correct_sum_of_squares",
     "locked": false,
     "points": 1,
     "schema_version": 3,
     "solution": false
    }
   },
   "outputs": [],
   "source": [
    "\"assert(sum_of_squares(1) == 1)\n",
    " assert(nchar(sum_of_squares(1)) == 1)\n",
    " print('Success!')\n",
    "\"\n",
    "\n",
    "\"assert(sum_of_squares(2) == 5)\n",
    " assert(nchar(sum_of_squares(2)) == 1)\n",
    " print('Success!')\n",
    "\"\n",
    "\n",
    "\"assert(sum_of_squares(10) == 385)\n",
    " assert(nchar(sum_of_squares(10)) == 3)\n",
    " print('Success!')\n",
    "\"\n",
    "\n",
    "\"assert(sum_of_squares(11) == 506)\n",
    " assert(nchar(sum_of_squares(11)) == 3)\n",
    " print('Success!')\n",
    "\"\n",
    "\n"
   ]
  },
  {
   "cell_type": "markdown",
   "metadata": {},
   "source": [
    "---\n",
    "## Part C (1 point)\n",
    "\n",
    "Using LaTeX math notation, write out the equation that is implemented by your `sum_of_squares` function."
   ]
  },
  {
   "cell_type": "markdown",
   "metadata": {
    "deletable": false,
    "nbgrader": {
     "cell_type": "markdown",
     "checksum": "f3cc38a3e522c0be10852ebbe2a638b7",
     "grade": true,
     "grade_id": "sum_of_squares_equation",
     "locked": false,
     "points": 1,
     "schema_version": 3,
     "solution": true
    }
   },
   "source": [
    "YOUR ANSWER HERE"
   ]
  },
  {
   "cell_type": "markdown",
   "metadata": {},
   "source": [
    "---\n",
    "## Part D (2 points)\n",
    "\n",
    "Find a usecase for your `sum_of_squares` function and implement that usecase in the cell below."
   ]
  },
  {
   "cell_type": "code",
   "execution_count": null,
   "metadata": {
    "deletable": false,
    "nbgrader": {
     "cell_type": "code",
     "checksum": "c73e91eca8b59b0b8bc5c6ac0a5ffa7e",
     "grade": true,
     "grade_id": "sum_of_squares_application",
     "locked": false,
     "points": 2,
     "schema_version": 3,
     "solution": true
    }
   },
   "outputs": [],
   "source": [
    "# YOUR CODE HERE\n",
    "fail() # No Answer - remove if you provide an answer"
   ]
  },
  {
   "cell_type": "markdown",
   "metadata": {},
   "source": [
    "---\n",
    "## Part E (4 points)\n",
    "\n",
    "State the formulae for an arithmetic and geometric sum and verify them numerically for an example of your choice."
   ]
  }
 ],
 "metadata": {
  "kernelspec": {
   "display_name": "R",
   "language": "R",
   "name": "ir"
  },
  "language_info": {
   "codemirror_mode": "r",
   "file_extension": ".r",
   "mimetype": "text/x-r-source",
   "name": "R",
   "pygments_lexer": "r",
   "version": "3.4.4"
  }
 },
 "nbformat": 4,
 "nbformat_minor": 1
}
